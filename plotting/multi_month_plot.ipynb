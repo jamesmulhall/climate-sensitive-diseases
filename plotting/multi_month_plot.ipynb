{
  "nbformat": 4,
  "nbformat_minor": 0,
  "metadata": {
    "colab": {
      "name": "Multi-month plot only",
      "provenance": [],
      "collapsed_sections": []
    },
    "kernelspec": {
      "name": "python3",
      "display_name": "Python 3"
    },
    "language_info": {
      "name": "python"
    }
  },
  "cells": [
    {
      "cell_type": "code",
      "metadata": {
        "id": "J3kigR8JXcdu"
      },
      "source": [
        "from google.colab import drive\n",
        "import os\n",
        "import pandas as pd\n",
        "import numpy as np\n",
        "from pandas import DataFrame\n",
        "import matplotlib.pyplot as plt\n",
        "import matplotlib.gridspec as gridspec\n",
        "import matplotlib\n",
        "import seaborn as sns"
      ],
      "execution_count": null,
      "outputs": []
    },
    {
      "cell_type": "code",
      "metadata": {
        "id": "RxdRU4oPXzGm"
      },
      "source": [
        "# Mount Google Drive for reading and writing files\n",
        "drive.mount('/content/drive')\n",
        "os.chdir(\"drive/My Drive/PROJECT/HealthCare/FINAL_RESULTS/\")"
      ],
      "execution_count": null,
      "outputs": []
    },
    {
      "cell_type": "code",
      "metadata": {
        "id": "e2P1cO3yXyX7"
      },
      "source": [
        "# Read in model results for each province\n",
        "dien_bien = pd.read_excel('./FINAL_DIEN_BIEN_LSTM-ATT.xlsx', index_col=0)\n",
        "thai_binh = pd.read_excel('./FINAL_THAI_BINH_LSTM-ATT.xlsx', index_col=0)\n",
        "lao_cai = pd.read_excel('./FINAL_LAO_CAI_LSTM-ATT.xlsx', index_col=0)\n",
        "kon_tum = pd.read_excel('./FINAL_KON_TUM_LSTM-ATT.xlsx', index_col=0)\n",
        "cao_bang = pd.read_excel('./FINAL_CAO_BANG_LSTM-ATT.xlsx', index_col=0)"
      ],
      "execution_count": null,
      "outputs": []
    },
    {
      "cell_type": "code",
      "metadata": {
        "id": "x4XqczcuaUOU"
      },
      "source": [
        "# Plot style\n",
        "plt.rcParams['xtick.direction'] = 'in'\n",
        "plt.rcParams['ytick.direction'] = 'in'\n",
        "plt.rcParams['xtick.top'] = True\n",
        "plt.rcParams['ytick.right'] = True\n",
        "plt.rcParams['figure.figsize'] = [12.0, 6.0]\n",
        "\n",
        "# Set up plot grid to allow multiple plots in one figure\n",
        "fig = plt.figure()\n",
        "AX = gridspec.GridSpec(2*2,6*3)\n",
        "AX.update(wspace = 3, hspace = 0.75)\n",
        "ax1  = plt.subplot(AX[0:2,0:6])\n",
        "ax2 = plt.subplot(AX[0:2,6:12])\n",
        "ax3 = plt.subplot(AX[0:2,12:18])\n",
        "ax4 = plt.subplot(AX[2:4,3:9])\n",
        "ax5 = plt.subplot(AX[2:4,9:15])\n",
        "\n",
        "# Plot Dien Bien results\n",
        "ax1.plot(dien_bien[['Observed']], label='Observation', color='black', linestyle='dashdot')\n",
        "ax1.plot(dien_bien[['1-month']], label='1-month', color='tab:blue')\n",
        "ax1.plot(dien_bien[['2-months']], label='2-months', color='tab:green')\n",
        "ax1.plot(dien_bien[['3-months']], label='3-months', color='tab:red')\n",
        "ax1.grid(True)\n",
        "ax1.set_title('Điện Biên', fontweight='bold')\n",
        "\n",
        "# Plot Thai Binh results\n",
        "ax2.plot(thai_binh[['Observed']], label='Observation', color='black', linestyle='dashdot')\n",
        "ax2.plot(thai_binh[['1-month']], label='1-month', color='tab:blue')\n",
        "ax2.plot(thai_binh[['2-months']], label='2-months', color='tab:green')\n",
        "ax2.plot(thai_binh[['3-months']], label='3-months', color='tab:red')\n",
        "ax2.grid(True)\n",
        "ax2.set_title('Thái Bình', fontweight='bold')\n",
        "\n",
        "# Plot Lao Cai results\n",
        "ax3.plot(lao_cai[['Observed']], label='Observation', color='black', linestyle='dashdot')\n",
        "ax3.plot(lao_cai[['1-month']], label='1-month', color='tab:blue')\n",
        "ax3.plot(lao_cai[['2-months']], label='2-months', color='tab:green')\n",
        "ax3.plot(lao_cai[['3-months']], label='3-months', color='tab:red')\n",
        "ax3.grid(True)\n",
        "ax3.set_title('Lào Cai', fontweight='bold')\n",
        "\n",
        "# Plot Kon Tum results\n",
        "ax4.plot(kon_tum[['Observed']], label='Observation', color='black', linestyle='dashdot')\n",
        "ax4.plot(kon_tum[['1-month']], label='1-month', color='tab:blue')\n",
        "ax4.plot(kon_tum[['2-months']], label='2-months', color='tab:green')\n",
        "ax4.plot(kon_tum[['3-months']], label='3-months', color='tab:red')\n",
        "ax4.grid(True)\n",
        "ax4.set_title('Kon Tum', fontweight='bold')\n",
        "\n",
        "# Plot Cao Bang results\n",
        "ax5.plot(cao_bang[['Observed']], label='Observation', color='black', linestyle='dashdot')\n",
        "ax5.plot(cao_bang[['1-month']], label='1-month', color='tab:blue')\n",
        "ax5.plot(cao_bang[['2-months']], label='2-months', color='tab:green')\n",
        "ax5.plot(cao_bang[['3-months']], label='3-months', color='tab:red')\n",
        "ax5.grid(True)\n",
        "ax5.set_title('Cao Bằng', fontweight='bold')\n",
        "ax5.legend(loc='upper center', bbox_to_anchor=(-0.07, -0.2), shadow=False, ncol=4)\n",
        "\n",
        "# Set axis labels and ticks\n",
        "plt.setp([ax4, ax5], xlabel='Month')\n",
        "plt.setp([ax1, ax4], ylabel='Incidence Rate per 100k')\n",
        "plt.setp([ax1, ax2, ax3, ax4, ax5],xticks=(np.arange(0, 36, 5.0)))\n",
        "\n",
        "# Plot and save\n",
        "plt.tight_layout()\n",
        "plt.savefig('multi_month_lstm-att.png', dpi =300)\n",
        "plt.show()"
      ],
      "execution_count": null,
      "outputs": []
    }
  ]
}