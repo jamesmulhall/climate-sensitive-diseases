{
  "nbformat": 4,
  "nbformat_minor": 0,
  "metadata": {
    "colab": {
      "name": "LSTM-ATT_outbreaks",
      "provenance": [],
      "collapsed_sections": []
    },
    "kernelspec": {
      "name": "python3",
      "display_name": "Python 3"
    },
    "language_info": {
      "name": "python"
    }
  },
  "cells": [
    {
      "cell_type": "code",
      "metadata": {
        "id": "J3kigR8JXcdu"
      },
      "source": [
        "from google.colab import drive\n",
        "import os\n",
        "import pandas as pd\n",
        "import numpy as np\n",
        "from pandas import DataFrame\n",
        "import matplotlib.pyplot as plt\n",
        "import matplotlib.gridspec as gridspec\n",
        "import matplotlib\n",
        "import seaborn as sns"
      ],
      "execution_count": null,
      "outputs": []
    },
    {
      "cell_type": "code",
      "metadata": {
        "id": "RxdRU4oPXzGm"
      },
      "source": [
        "# Mount Google Drive for reading and writing files\n",
        "drive.mount('/content/drive')\n",
        "os.chdir(\"drive/My Drive/PROJECT/HealthCare/FINAL_RESULTS/\")"
      ],
      "execution_count": null,
      "outputs": []
    },
    {
      "cell_type": "code",
      "metadata": {
        "id": "e2P1cO3yXyX7"
      },
      "source": [
        "# Read in data\n",
        "df = pd.read_excel('./LSTM-ATT_outbreaks.xlsx')\n",
        "print(df)"
      ],
      "execution_count": null,
      "outputs": []
    },
    {
      "cell_type": "code",
      "metadata": {
        "id": "x4XqczcuaUOU"
      },
      "source": [
        "# Plot style\n",
        "plt.rcParams['xtick.direction'] = 'in'\n",
        "plt.rcParams['ytick.direction'] = 'in'\n",
        "plt.rcParams['xtick.top'] = True\n",
        "plt.rcParams['ytick.right'] = True\n",
        "plt.rcParams['figure.figsize'] = [18.0, 6.0]\n",
        "plt.rcParams['font.size'] = 14\n",
        "\n",
        "# Split data into relevant metrics for each of the two plots\n",
        "df1 = df[df[\"Metric\"].isin(['True Positive', 'False Positive', 'Actual Positive'])]\n",
        "df2 = df[df[\"Metric\"].isin(['Precision', 'Accuracy', 'Sensitivity', 'Specificity'])]\n",
        "\n",
        "# Set up plot grid to allow multiple plots in one figure\n",
        "fig = plt.figure()\n",
        "AX = gridspec.GridSpec(2,6)\n",
        "# AX.update(wspace = 3, hspace = 0.75)\n",
        "ax1  = plt.subplot(AX[:,0:3])\n",
        "ax2 = plt.subplot(AX[:,3:6])\n",
        "\n",
        "# Create two barplots, remove legends to add custom legend later\n",
        "g1 = sns.barplot(x='Province', y=\"Score\", hue=\"Metric\", data=df1, ax=ax1)\n",
        "g2 = sns.barplot(x='Province', y=\"Score\", hue=\"Metric\", data=df2, ax=ax2)\n",
        "g1.legend_.remove()\n",
        "g2.legend_.remove()\n",
        "\n",
        "# Add in legends below plots\n",
        "ax1.legend(loc='upper center', bbox_to_anchor=(0.505, -0.15), shadow=False, ncol=3)\n",
        "ax2.legend(loc='upper center', bbox_to_anchor=(0.505, -0.15), shadow=False, ncol=4)\n",
        "\n",
        "# Plot and save\n",
        "plt.grid(False)\n",
        "plt.tight_layout()\n",
        "# plt.savefig('LSTM-ATT_outbreaks.png', dpi = 300)\n",
        "plt.show()"
      ],
      "execution_count": null,
      "outputs": []
    },
    {
      "cell_type": "code",
      "metadata": {
        "id": "kugp91X3OWtB"
      },
      "source": [
        "# Read in data for multi-month predictions\n",
        "month_2 = pd.read_excel('./LSTM-ATT_outbreaks.xlsx', sheet_name='2-month')\n",
        "month_3 = pd.read_excel('./LSTM-ATT_outbreaks.xlsx', sheet_name='3-month')"
      ],
      "execution_count": null,
      "outputs": []
    },
    {
      "cell_type": "code",
      "metadata": {
        "id": "hoHEnNi2OXCK"
      },
      "source": [
        "# Plot style\n",
        "plt.rcParams['xtick.direction'] = 'in'\n",
        "plt.rcParams['ytick.direction'] = 'in'\n",
        "plt.rcParams['xtick.top'] = True\n",
        "plt.rcParams['ytick.right'] = True\n",
        "plt.rcParams['figure.figsize'] = [20.0, 6.0]\n",
        "plt.rcParams['font.size'] = 14\n",
        "\n",
        "# Set up plot grid to allow multiple plots in one figure\n",
        "fig = plt.figure()\n",
        "AX = gridspec.GridSpec(2,6)\n",
        "AX.update(wspace = 0.5, hspace = 0.75)\n",
        "ax1  = plt.subplot(AX[:,0:3])\n",
        "ax2 = plt.subplot(AX[:,3:6])\n",
        "\n",
        "# Create two barplots\n",
        "g1 = sns.barplot(x='Province', y=\"Score\", hue=\"Metric\", data=month_2, ax=ax1)\n",
        "ax1.set_title('2 Months Ahead')\n",
        "g2 = sns.barplot(x='Province', y=\"Score\", hue=\"Metric\", data=month_3, ax=ax2)\n",
        "ax2.set_title('3 Months Ahead')\n",
        "\n",
        "# Remove legends to add custom legend after\n",
        "g1.legend_.remove()\n",
        "g2.legend_.remove()\n",
        "\n",
        "# Custom legend\n",
        "ax2.legend(loc='upper center', bbox_to_anchor=(-0.07, -0.15), shadow=False, ncol=4)\n",
        "\n",
        "# Plot and save\n",
        "plt.grid(False)\n",
        "plt.tight_layout()\n",
        "# plt.savefig('multi_month_outbreaks.png', dpi = 300)\n",
        "plt.show()"
      ],
      "execution_count": null,
      "outputs": []
    }
  ]
}