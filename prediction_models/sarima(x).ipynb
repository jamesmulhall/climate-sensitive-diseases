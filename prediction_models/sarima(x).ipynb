{
  "nbformat": 4,
  "nbformat_minor": 0,
  "metadata": {
    "colab": {
      "name": "sarima(x)",
      "provenance": [],
      "collapsed_sections": []
    },
    "kernelspec": {
      "display_name": "Python 3",
      "name": "python3"
    },
    "language_info": {
      "name": "python"
    }
  },
  "cells": [
    {
      "cell_type": "markdown",
      "metadata": {
        "id": "NFB3yc2e9IS5"
      },
      "source": [
        "NOTE: Check which way the data is shifting!! Might be overlapping validation set and test set!"
      ]
    },
    {
      "cell_type": "code",
      "metadata": {
        "colab": {
          "base_uri": "https://localhost:8080/"
        },
        "id": "zpY-uOYTzC3f",
        "outputId": "59beac9a-4b8a-464f-816f-77e2515ef6cb"
      },
      "source": [
        "!pip install -U scikit-learn\n",
        "\n",
        "### Packages\n",
        "import warnings\n",
        "import itertools\n",
        "import numpy as np\n",
        "import pandas as pd\n",
        "from statsmodels.tsa.statespace.sarimax import SARIMAX\n",
        "from sklearn.metrics import mean_squared_error, r2_score, mean_absolute_error, median_absolute_error, mean_squared_log_error, mean_absolute_percentage_error\n",
        "from sklearn.preprocessing import MinMaxScaler\n",
        "from google.colab import drive\n",
        "import os\n",
        "\n",
        "# Settings\n",
        "pd.set_option('display.expand_frame_repr', False)\n",
        "pd.set_option('display.max_columns', 500)\n",
        "pd.set_option('display.width', 1000)\n",
        "warnings.filterwarnings(\"ignore\")"
      ],
      "execution_count": null,
      "outputs": [
        {
          "name": "stdout",
          "output_type": "stream",
          "text": [
            "Requirement already satisfied: scikit-learn in /usr/local/lib/python3.7/dist-packages (0.24.2)\n",
            "Requirement already satisfied: joblib>=0.11 in /usr/local/lib/python3.7/dist-packages (from scikit-learn) (1.0.1)\n",
            "Requirement already satisfied: scipy>=0.19.1 in /usr/local/lib/python3.7/dist-packages (from scikit-learn) (1.4.1)\n",
            "Requirement already satisfied: threadpoolctl>=2.0.0 in /usr/local/lib/python3.7/dist-packages (from scikit-learn) (2.2.0)\n",
            "Requirement already satisfied: numpy>=1.13.3 in /usr/local/lib/python3.7/dist-packages (from scikit-learn) (1.19.5)\n"
          ]
        }
      ]
    },
    {
      "cell_type": "code",
      "metadata": {
        "colab": {
          "base_uri": "https://localhost:8080/"
        },
        "id": "TeiZGe62zG0B",
        "outputId": "781dfc77-075b-412e-8b91-9a689226a91c"
      },
      "source": [
        "# Mount Google Drive for reading and writing files\n",
        "drive.mount('/content/drive')\n",
        "os.chdir(\"drive/My Drive/PROJECT/HealthCare/\")"
      ],
      "execution_count": null,
      "outputs": [
        {
          "name": "stdout",
          "output_type": "stream",
          "text": [
            "Drive already mounted at /content/drive; to attempt to forcibly remount, call drive.mount(\"/content/drive\", force_remount=True).\n"
          ]
        }
      ]
    },
    {
      "cell_type": "code",
      "metadata": {
        "id": "FBjtVP7Oy3IE"
      },
      "source": [
        "def impute_missing_value(city_data):\n",
        "    \"\"\"\n",
        "    Imputes 0 for first 12 months, \n",
        "    last year's value for months 12-24, \n",
        "    and minimum value of last two years for months 25+\n",
        "    \"\"\"\n",
        "    for col in city_data.columns:\n",
        "        for index in range(len(city_data[col])):\n",
        "            if np.isnan(city_data[col].iloc[index]):\n",
        "                if index < 12:\n",
        "                    city_data[col].iloc[index] = 0\n",
        "                elif index >= 12 and index <= 24:\n",
        "                    city_data[col].iloc[index] = city_data[col].iloc[index - 12]\n",
        "                else:\n",
        "                    city_data[col].iloc[index] = min(city_data[col].iloc[index - 12], city_data[col].iloc[index - 24])\n",
        "    return city_data\n",
        "\n",
        "def evaluate_forecast(y, pred):\n",
        "    \"\"\"Returns MAE, MSE, MAPE, and RMSE between y and pred\"\"\"\n",
        "    results = pd.DataFrame({'r2_score':r2_score(y, pred),\n",
        "                           }, index=[0])\n",
        "    results['mae'] = mean_absolute_error(y, pred)\n",
        "    # results['median_absolute_error'] = median_absolute_error(y, pred)\n",
        "    results['mse'] = mean_squared_error(y, pred)\n",
        "    # results['msle'] = mean_squared_log_error(y, pred)\n",
        "    results['mape'] = mean_absolute_percentage_error(y, pred)\n",
        "    results['rmse'] = np.sqrt(results['mse'])\n",
        "    return results"
      ],
      "execution_count": null,
      "outputs": []
    },
    {
      "cell_type": "code",
      "metadata": {
        "colab": {
          "background_save": true,
          "base_uri": "https://localhost:8080/"
        },
        "id": "q5Kx1w9a65yI",
        "outputId": "f27c48a5-3646-4c59-a2f3-d71b5171e3c0"
      },
      "source": [
        "### SARIMA ###\n",
        "\n",
        "# diarrhoea_cities = ['Điện Biên', 'Thái Bình', 'Lào Cai', 'Kon Tum', 'Cao Bằng']\n",
        "\n",
        "# Load the data\n",
        "vietnam = pd.read_excel(\"./data/full_data_fixed.xlsx\")\n",
        "\n",
        "# Restrict to training and validation sets unless doing final test evaluation\n",
        "vietnam = vietnam.loc[vietnam['year_month'] < '2014-1-1']\n",
        "\n",
        "# Select province/city for model\n",
        "city = \"Bình Phước\"\n",
        "dfbase = vietnam.loc[vietnam['province'] == city]\n",
        "\n",
        "### Create data to fit\n",
        "df = dfbase[['Dengue_fever_rates']]\n",
        "df = impute_missing_value(df)\n",
        "\n",
        "ddatefull = [pd.Timestamp(x) for x in list(dfbase.year_month)]\n",
        "df['Date'] = ddatefull\n",
        "df = df.set_index(\"Date\")\n",
        "df.dropna(inplace=True)\n",
        "\n",
        "# number of sample\n",
        "numdata = len(df)\n",
        "\n",
        "# number of test\n",
        "# last 3 years 2014-2016\n",
        "numtest = 36\n",
        "\n",
        "# divide into train and validation set\n",
        "train = df[:(numdata - numtest)]\n",
        "test = df[(numdata - numtest):]\n",
        "\n",
        "# Indexing\n",
        "start_index = test.index.min()\n",
        "end_index = test.index.max()\n",
        "start_pos = numdata - numtest\n",
        "end_pos = numdata\n",
        "\n",
        "# train and prediction\n",
        "predictions = list()\n",
        "\n",
        "trainlist = [x for x in train.Dengue_fever_rates]\n",
        "testlist = [x for x in test.Dengue_fever_rates]\n",
        "\n",
        "# prediction step\n",
        "nstep = 1\n",
        "\n",
        "# retrain the model\n",
        "retrain = True\n",
        "\n",
        "# set the model config\n",
        "order = (4, 0, 6)\n",
        "sorder = (6, 0, 3, 12)\n",
        "trend = 'n'\n",
        "\n",
        "# a first model to look at\n",
        "model = SARIMAX(trainlist, order=order, seasonal_order=sorder, trend=trend,\n",
        "                    enforce_stationarity=False,\n",
        "                    enforce_invertibility=False)\n",
        "# fit model\n",
        "model_fit = model.fit(disp=False)\n",
        "\n",
        "# step over each time-step in the test set\n",
        "for i in range(len(testlist) - nstep + 1):\n",
        "    print(\"Iteration \", i)\n",
        "    if retrain:\n",
        "        # define model\n",
        "        model = SARIMAX(trainlist, order=order, seasonal_order=sorder, trend=trend,\n",
        "                        enforce_stationarity=False,\n",
        "                        enforce_invertibility=False)\n",
        "        # fit model\n",
        "        model_fit = model.fit(disp=False)\n",
        "    # forecast\n",
        "    yhat = model_fit.predict(len(trainlist), len(trainlist) + nstep - 1)\n",
        "    # print the prediction\n",
        "    # take the prediction result\n",
        "    predictions.append(yhat[nstep - 1])\n",
        "    # add actual observation to history for the next loop\n",
        "    trainlist.append(testlist[i])\n",
        "\n",
        "# print final model\n",
        "print(\"Final model: \")\n",
        "print(model_fit.summary())\n",
        "\n",
        "# print out the prediction\n",
        "# print(\"TrainList : \", trainlist)\n",
        "# print(\"TestList : \", testlist)\n",
        "# print(\"Prediction: \", predictions)\n",
        "\n",
        "# prediction\n",
        "predorg = df[(numdata - numtest + nstep - 1):].copy()\n",
        "pred = df[(numdata - numtest + nstep - 1):].copy()\n",
        "pred['Dengue_fever_rates'] = predictions\n",
        "\n",
        "# evaluate forecast\n",
        "results = evaluate_forecast(predorg['Dengue_fever_rates'], pred['Dengue_fever_rates'])\n",
        "print(results)\n",
        "print(f\"P-values: {model_fit.pvalues}\")"
      ],
      "execution_count": null,
      "outputs": [
        {
          "name": "stderr",
          "output_type": "stream",
          "text": [
            "/usr/local/lib/python3.7/dist-packages/statsmodels/base/model.py:512: ConvergenceWarning: Maximum Likelihood optimization failed to converge. Check mle_retvals\n",
            "  \"Check mle_retvals\", ConvergenceWarning)\n"
          ]
        },
        {
          "name": "stdout",
          "output_type": "stream",
          "text": [
            "Iteration  0\n"
          ]
        },
        {
          "name": "stderr",
          "output_type": "stream",
          "text": [
            "/usr/local/lib/python3.7/dist-packages/statsmodels/base/model.py:512: ConvergenceWarning: Maximum Likelihood optimization failed to converge. Check mle_retvals\n",
            "  \"Check mle_retvals\", ConvergenceWarning)\n"
          ]
        },
        {
          "name": "stdout",
          "output_type": "stream",
          "text": [
            "Iteration  1\n"
          ]
        },
        {
          "name": "stderr",
          "output_type": "stream",
          "text": [
            "/usr/local/lib/python3.7/dist-packages/statsmodels/base/model.py:512: ConvergenceWarning: Maximum Likelihood optimization failed to converge. Check mle_retvals\n",
            "  \"Check mle_retvals\", ConvergenceWarning)\n"
          ]
        },
        {
          "name": "stdout",
          "output_type": "stream",
          "text": [
            "Iteration  2\n"
          ]
        },
        {
          "name": "stderr",
          "output_type": "stream",
          "text": [
            "/usr/local/lib/python3.7/dist-packages/statsmodels/base/model.py:512: ConvergenceWarning: Maximum Likelihood optimization failed to converge. Check mle_retvals\n",
            "  \"Check mle_retvals\", ConvergenceWarning)\n"
          ]
        },
        {
          "name": "stdout",
          "output_type": "stream",
          "text": [
            "Iteration  3\n"
          ]
        },
        {
          "name": "stderr",
          "output_type": "stream",
          "text": [
            "/usr/local/lib/python3.7/dist-packages/statsmodels/base/model.py:512: ConvergenceWarning: Maximum Likelihood optimization failed to converge. Check mle_retvals\n",
            "  \"Check mle_retvals\", ConvergenceWarning)\n"
          ]
        },
        {
          "name": "stdout",
          "output_type": "stream",
          "text": [
            "Iteration  4\n"
          ]
        },
        {
          "name": "stderr",
          "output_type": "stream",
          "text": [
            "/usr/local/lib/python3.7/dist-packages/statsmodels/base/model.py:512: ConvergenceWarning: Maximum Likelihood optimization failed to converge. Check mle_retvals\n",
            "  \"Check mle_retvals\", ConvergenceWarning)\n"
          ]
        },
        {
          "name": "stdout",
          "output_type": "stream",
          "text": [
            "Iteration  5\n"
          ]
        },
        {
          "name": "stderr",
          "output_type": "stream",
          "text": [
            "/usr/local/lib/python3.7/dist-packages/statsmodels/base/model.py:512: ConvergenceWarning: Maximum Likelihood optimization failed to converge. Check mle_retvals\n",
            "  \"Check mle_retvals\", ConvergenceWarning)\n"
          ]
        },
        {
          "name": "stdout",
          "output_type": "stream",
          "text": [
            "Iteration  6\n"
          ]
        },
        {
          "name": "stderr",
          "output_type": "stream",
          "text": [
            "/usr/local/lib/python3.7/dist-packages/statsmodels/base/model.py:512: ConvergenceWarning: Maximum Likelihood optimization failed to converge. Check mle_retvals\n",
            "  \"Check mle_retvals\", ConvergenceWarning)\n"
          ]
        },
        {
          "name": "stdout",
          "output_type": "stream",
          "text": [
            "Iteration  7\n"
          ]
        },
        {
          "name": "stderr",
          "output_type": "stream",
          "text": [
            "/usr/local/lib/python3.7/dist-packages/statsmodels/base/model.py:512: ConvergenceWarning: Maximum Likelihood optimization failed to converge. Check mle_retvals\n",
            "  \"Check mle_retvals\", ConvergenceWarning)\n"
          ]
        },
        {
          "name": "stdout",
          "output_type": "stream",
          "text": [
            "Iteration  8\n"
          ]
        },
        {
          "name": "stderr",
          "output_type": "stream",
          "text": [
            "/usr/local/lib/python3.7/dist-packages/statsmodels/base/model.py:512: ConvergenceWarning: Maximum Likelihood optimization failed to converge. Check mle_retvals\n",
            "  \"Check mle_retvals\", ConvergenceWarning)\n"
          ]
        },
        {
          "name": "stdout",
          "output_type": "stream",
          "text": [
            "Iteration  9\n"
          ]
        },
        {
          "name": "stderr",
          "output_type": "stream",
          "text": [
            "/usr/local/lib/python3.7/dist-packages/statsmodels/base/model.py:512: ConvergenceWarning: Maximum Likelihood optimization failed to converge. Check mle_retvals\n",
            "  \"Check mle_retvals\", ConvergenceWarning)\n"
          ]
        },
        {
          "name": "stdout",
          "output_type": "stream",
          "text": [
            "Iteration  10\n"
          ]
        },
        {
          "name": "stderr",
          "output_type": "stream",
          "text": [
            "/usr/local/lib/python3.7/dist-packages/statsmodels/base/model.py:512: ConvergenceWarning: Maximum Likelihood optimization failed to converge. Check mle_retvals\n",
            "  \"Check mle_retvals\", ConvergenceWarning)\n"
          ]
        },
        {
          "name": "stdout",
          "output_type": "stream",
          "text": [
            "Iteration  11\n"
          ]
        },
        {
          "name": "stderr",
          "output_type": "stream",
          "text": [
            "/usr/local/lib/python3.7/dist-packages/statsmodels/base/model.py:512: ConvergenceWarning: Maximum Likelihood optimization failed to converge. Check mle_retvals\n",
            "  \"Check mle_retvals\", ConvergenceWarning)\n"
          ]
        },
        {
          "name": "stdout",
          "output_type": "stream",
          "text": [
            "Iteration  12\n"
          ]
        },
        {
          "name": "stderr",
          "output_type": "stream",
          "text": [
            "/usr/local/lib/python3.7/dist-packages/statsmodels/base/model.py:512: ConvergenceWarning: Maximum Likelihood optimization failed to converge. Check mle_retvals\n",
            "  \"Check mle_retvals\", ConvergenceWarning)\n"
          ]
        },
        {
          "name": "stdout",
          "output_type": "stream",
          "text": [
            "Iteration  13\n"
          ]
        },
        {
          "name": "stderr",
          "output_type": "stream",
          "text": [
            "/usr/local/lib/python3.7/dist-packages/statsmodels/base/model.py:512: ConvergenceWarning: Maximum Likelihood optimization failed to converge. Check mle_retvals\n",
            "  \"Check mle_retvals\", ConvergenceWarning)\n"
          ]
        },
        {
          "name": "stdout",
          "output_type": "stream",
          "text": [
            "Iteration  14\n"
          ]
        },
        {
          "name": "stderr",
          "output_type": "stream",
          "text": [
            "/usr/local/lib/python3.7/dist-packages/statsmodels/base/model.py:512: ConvergenceWarning: Maximum Likelihood optimization failed to converge. Check mle_retvals\n",
            "  \"Check mle_retvals\", ConvergenceWarning)\n"
          ]
        },
        {
          "name": "stdout",
          "output_type": "stream",
          "text": [
            "Iteration  15\n"
          ]
        },
        {
          "name": "stderr",
          "output_type": "stream",
          "text": [
            "/usr/local/lib/python3.7/dist-packages/statsmodels/base/model.py:512: ConvergenceWarning: Maximum Likelihood optimization failed to converge. Check mle_retvals\n",
            "  \"Check mle_retvals\", ConvergenceWarning)\n"
          ]
        },
        {
          "name": "stdout",
          "output_type": "stream",
          "text": [
            "Iteration  16\n"
          ]
        },
        {
          "name": "stderr",
          "output_type": "stream",
          "text": [
            "/usr/local/lib/python3.7/dist-packages/statsmodels/base/model.py:512: ConvergenceWarning: Maximum Likelihood optimization failed to converge. Check mle_retvals\n",
            "  \"Check mle_retvals\", ConvergenceWarning)\n"
          ]
        },
        {
          "name": "stdout",
          "output_type": "stream",
          "text": [
            "Iteration  17\n"
          ]
        },
        {
          "name": "stderr",
          "output_type": "stream",
          "text": [
            "/usr/local/lib/python3.7/dist-packages/statsmodels/base/model.py:512: ConvergenceWarning: Maximum Likelihood optimization failed to converge. Check mle_retvals\n",
            "  \"Check mle_retvals\", ConvergenceWarning)\n"
          ]
        },
        {
          "name": "stdout",
          "output_type": "stream",
          "text": [
            "Iteration  18\n"
          ]
        },
        {
          "name": "stderr",
          "output_type": "stream",
          "text": [
            "/usr/local/lib/python3.7/dist-packages/statsmodels/base/model.py:512: ConvergenceWarning: Maximum Likelihood optimization failed to converge. Check mle_retvals\n",
            "  \"Check mle_retvals\", ConvergenceWarning)\n"
          ]
        },
        {
          "name": "stdout",
          "output_type": "stream",
          "text": [
            "Iteration  19\n"
          ]
        },
        {
          "name": "stderr",
          "output_type": "stream",
          "text": [
            "/usr/local/lib/python3.7/dist-packages/statsmodels/base/model.py:512: ConvergenceWarning: Maximum Likelihood optimization failed to converge. Check mle_retvals\n",
            "  \"Check mle_retvals\", ConvergenceWarning)\n"
          ]
        },
        {
          "name": "stdout",
          "output_type": "stream",
          "text": [
            "Iteration  20\n"
          ]
        },
        {
          "name": "stderr",
          "output_type": "stream",
          "text": [
            "/usr/local/lib/python3.7/dist-packages/statsmodels/base/model.py:512: ConvergenceWarning: Maximum Likelihood optimization failed to converge. Check mle_retvals\n",
            "  \"Check mle_retvals\", ConvergenceWarning)\n"
          ]
        },
        {
          "name": "stdout",
          "output_type": "stream",
          "text": [
            "Iteration  21\n"
          ]
        },
        {
          "name": "stderr",
          "output_type": "stream",
          "text": [
            "/usr/local/lib/python3.7/dist-packages/statsmodels/base/model.py:512: ConvergenceWarning: Maximum Likelihood optimization failed to converge. Check mle_retvals\n",
            "  \"Check mle_retvals\", ConvergenceWarning)\n"
          ]
        },
        {
          "name": "stdout",
          "output_type": "stream",
          "text": [
            "Iteration  22\n"
          ]
        },
        {
          "name": "stderr",
          "output_type": "stream",
          "text": [
            "/usr/local/lib/python3.7/dist-packages/statsmodels/base/model.py:512: ConvergenceWarning: Maximum Likelihood optimization failed to converge. Check mle_retvals\n",
            "  \"Check mle_retvals\", ConvergenceWarning)\n"
          ]
        },
        {
          "name": "stdout",
          "output_type": "stream",
          "text": [
            "Iteration  23\n"
          ]
        },
        {
          "name": "stderr",
          "output_type": "stream",
          "text": [
            "/usr/local/lib/python3.7/dist-packages/statsmodels/base/model.py:512: ConvergenceWarning: Maximum Likelihood optimization failed to converge. Check mle_retvals\n",
            "  \"Check mle_retvals\", ConvergenceWarning)\n"
          ]
        },
        {
          "name": "stdout",
          "output_type": "stream",
          "text": [
            "Iteration  24\n"
          ]
        },
        {
          "name": "stderr",
          "output_type": "stream",
          "text": [
            "/usr/local/lib/python3.7/dist-packages/statsmodels/base/model.py:512: ConvergenceWarning: Maximum Likelihood optimization failed to converge. Check mle_retvals\n",
            "  \"Check mle_retvals\", ConvergenceWarning)\n"
          ]
        },
        {
          "name": "stdout",
          "output_type": "stream",
          "text": [
            "Iteration  25\n"
          ]
        },
        {
          "name": "stderr",
          "output_type": "stream",
          "text": [
            "/usr/local/lib/python3.7/dist-packages/statsmodels/base/model.py:512: ConvergenceWarning: Maximum Likelihood optimization failed to converge. Check mle_retvals\n",
            "  \"Check mle_retvals\", ConvergenceWarning)\n"
          ]
        },
        {
          "name": "stdout",
          "output_type": "stream",
          "text": [
            "Iteration  26\n"
          ]
        },
        {
          "name": "stderr",
          "output_type": "stream",
          "text": [
            "/usr/local/lib/python3.7/dist-packages/statsmodels/base/model.py:512: ConvergenceWarning: Maximum Likelihood optimization failed to converge. Check mle_retvals\n",
            "  \"Check mle_retvals\", ConvergenceWarning)\n"
          ]
        },
        {
          "name": "stdout",
          "output_type": "stream",
          "text": [
            "Iteration  27\n"
          ]
        },
        {
          "name": "stderr",
          "output_type": "stream",
          "text": [
            "/usr/local/lib/python3.7/dist-packages/statsmodels/base/model.py:512: ConvergenceWarning: Maximum Likelihood optimization failed to converge. Check mle_retvals\n",
            "  \"Check mle_retvals\", ConvergenceWarning)\n"
          ]
        },
        {
          "name": "stdout",
          "output_type": "stream",
          "text": [
            "Iteration  28\n"
          ]
        },
        {
          "name": "stderr",
          "output_type": "stream",
          "text": [
            "/usr/local/lib/python3.7/dist-packages/statsmodels/base/model.py:512: ConvergenceWarning: Maximum Likelihood optimization failed to converge. Check mle_retvals\n",
            "  \"Check mle_retvals\", ConvergenceWarning)\n"
          ]
        },
        {
          "name": "stdout",
          "output_type": "stream",
          "text": [
            "Iteration  29\n"
          ]
        },
        {
          "name": "stderr",
          "output_type": "stream",
          "text": [
            "/usr/local/lib/python3.7/dist-packages/statsmodels/base/model.py:512: ConvergenceWarning: Maximum Likelihood optimization failed to converge. Check mle_retvals\n",
            "  \"Check mle_retvals\", ConvergenceWarning)\n"
          ]
        },
        {
          "name": "stdout",
          "output_type": "stream",
          "text": [
            "Iteration  30\n"
          ]
        },
        {
          "name": "stderr",
          "output_type": "stream",
          "text": [
            "/usr/local/lib/python3.7/dist-packages/statsmodels/base/model.py:512: ConvergenceWarning: Maximum Likelihood optimization failed to converge. Check mle_retvals\n",
            "  \"Check mle_retvals\", ConvergenceWarning)\n"
          ]
        },
        {
          "name": "stdout",
          "output_type": "stream",
          "text": [
            "Iteration  31\n"
          ]
        },
        {
          "name": "stderr",
          "output_type": "stream",
          "text": [
            "/usr/local/lib/python3.7/dist-packages/statsmodels/base/model.py:512: ConvergenceWarning: Maximum Likelihood optimization failed to converge. Check mle_retvals\n",
            "  \"Check mle_retvals\", ConvergenceWarning)\n"
          ]
        },
        {
          "name": "stdout",
          "output_type": "stream",
          "text": [
            "Iteration  32\n"
          ]
        },
        {
          "name": "stderr",
          "output_type": "stream",
          "text": [
            "/usr/local/lib/python3.7/dist-packages/statsmodels/base/model.py:512: ConvergenceWarning: Maximum Likelihood optimization failed to converge. Check mle_retvals\n",
            "  \"Check mle_retvals\", ConvergenceWarning)\n"
          ]
        },
        {
          "name": "stdout",
          "output_type": "stream",
          "text": [
            "Iteration  33\n"
          ]
        },
        {
          "name": "stderr",
          "output_type": "stream",
          "text": [
            "/usr/local/lib/python3.7/dist-packages/statsmodels/base/model.py:512: ConvergenceWarning: Maximum Likelihood optimization failed to converge. Check mle_retvals\n",
            "  \"Check mle_retvals\", ConvergenceWarning)\n"
          ]
        },
        {
          "name": "stdout",
          "output_type": "stream",
          "text": [
            "Iteration  34\n"
          ]
        },
        {
          "name": "stderr",
          "output_type": "stream",
          "text": [
            "/usr/local/lib/python3.7/dist-packages/statsmodels/base/model.py:512: ConvergenceWarning: Maximum Likelihood optimization failed to converge. Check mle_retvals\n",
            "  \"Check mle_retvals\", ConvergenceWarning)\n"
          ]
        },
        {
          "name": "stdout",
          "output_type": "stream",
          "text": [
            "Iteration  35\n"
          ]
        },
        {
          "name": "stderr",
          "output_type": "stream",
          "text": [
            "/usr/local/lib/python3.7/dist-packages/statsmodels/base/model.py:512: ConvergenceWarning: Maximum Likelihood optimization failed to converge. Check mle_retvals\n",
            "  \"Check mle_retvals\", ConvergenceWarning)\n"
          ]
        },
        {
          "name": "stdout",
          "output_type": "stream",
          "text": [
            "Final model: \n",
            "                                 Statespace Model Results                                 \n",
            "==========================================================================================\n",
            "Dep. Variable:                                  y   No. Observations:                  239\n",
            "Model:             SARIMAX(4, 0, 6)x(6, 0, 3, 12)   Log Likelihood                -575.075\n",
            "Date:                            Wed, 15 Sep 2021   AIC                           1190.151\n",
            "Time:                                    18:06:01   BIC                           1252.026\n",
            "Sample:                                         0   HQIC                          1215.271\n",
            "                                            - 239                                         \n",
            "Covariance Type:                              opg                                         \n",
            "==============================================================================\n",
            "                 coef    std err          z      P>|z|      [0.025      0.975]\n",
            "------------------------------------------------------------------------------\n",
            "ar.L1          1.6583      0.686      2.418      0.016       0.314       3.003\n",
            "ar.L2         -0.7520      1.298     -0.579      0.562      -3.296       1.792\n",
            "ar.L3         -0.3483      1.132     -0.308      0.758      -2.568       1.871\n",
            "ar.L4          0.3396      0.407      0.835      0.404      -0.458       1.137\n",
            "ma.L1         -0.4443      0.684     -0.650      0.516      -1.784       0.896\n",
            "ma.L2         -0.1073      0.610     -0.176      0.860      -1.302       1.087\n",
            "ma.L3          0.1856      0.357      0.520      0.603      -0.513       0.885\n",
            "ma.L4          0.1345      0.196      0.685      0.493      -0.250       0.519\n",
            "ma.L5          0.1231      0.197      0.624      0.533      -0.264       0.510\n",
            "ma.L6         -0.1917      0.170     -1.130      0.259      -0.524       0.141\n",
            "ar.S.L12       0.6198      0.178      3.478      0.001       0.271       0.969\n",
            "ar.S.L24      -0.1339      0.168     -0.795      0.426      -0.464       0.196\n",
            "ar.S.L36      -0.0265      0.129     -0.205      0.838      -0.280       0.227\n",
            "ar.S.L48       0.2431      0.064      3.790      0.000       0.117       0.369\n",
            "ar.S.L60      -0.0019      0.034     -0.057      0.954      -0.068       0.065\n",
            "ar.S.L72       0.0197      0.048      0.410      0.682      -0.075       0.114\n",
            "ma.S.L12      -0.3940      0.198     -1.986      0.047      -0.783      -0.005\n",
            "ma.S.L24       0.0157      0.166      0.095      0.925      -0.309       0.341\n",
            "ma.S.L36       0.1196      0.141      0.850      0.395      -0.156       0.395\n",
            "sigma2        66.6607      5.975     11.157      0.000      54.950      78.371\n",
            "===================================================================================\n",
            "Ljung-Box (Q):                       22.05   Jarque-Bera (JB):               105.26\n",
            "Prob(Q):                              0.99   Prob(JB):                         0.00\n",
            "Heteroskedasticity (H):               2.40   Skew:                             1.14\n",
            "Prob(H) (two-sided):                  0.00   Kurtosis:                         6.20\n",
            "===================================================================================\n",
            "\n",
            "Warnings:\n",
            "[1] Covariance matrix calculated using the outer product of gradients (complex-step).\n",
            "   r2_score       mae        mse      mape     rmse\n",
            "0  0.756161  6.349692  74.156555  0.883355  8.61142\n",
            "[1.56068323e-02 5.62346460e-01 7.58394933e-01 4.03846258e-01\n",
            " 5.15731551e-01 8.60274348e-01 6.02798434e-01 4.93487974e-01\n",
            " 5.32935379e-01 2.58546509e-01 5.05465822e-04 4.26405123e-01\n",
            " 8.37587523e-01 1.50783975e-04 9.54388679e-01 6.81798963e-01\n",
            " 4.70157117e-02 9.24534713e-01 3.95276797e-01 6.63842890e-29]\n"
          ]
        }
      ]
    },
    {
      "cell_type": "code",
      "metadata": {
        "colab": {
          "background_save": true
        },
        "id": "8hJkk8ZO9vSa"
      },
      "source": [
        "# Save observed and predicted values, as well as error metrics\n",
        "\n",
        "results_sarima = pd.DataFrame({'Observed':predorg['Dengue_fever_rates'], \n",
        "                                'SARIMA':pred['Dengue_fever_rates']})\n",
        "results_sarima.reset_index(inplace=True)\n",
        "results_sarima['RMSE'] = pd.Series(results.rmse)\n",
        "results_sarima['MAE'] = pd.Series(results.mae)\n",
        "results_sarima['MAPE'] = pd.Series(results.mape)\n",
        "\n",
        "results_sarima.to_excel('df_binh_phuoc_SARIMA_1mo.xlsx')"
      ],
      "execution_count": null,
      "outputs": []
    },
    {
      "cell_type": "code",
      "metadata": {
        "id": "mfMJNUrxPbY8",
        "colab": {
          "base_uri": "https://localhost:8080/"
        },
        "outputId": "37c2b19e-0090-48d1-a4bd-3a9440c47648"
      },
      "source": [
        "\n",
        "# SARIMAX\n",
        "\n",
        "# diarrhoea_cities = ['Điện Biên', 'Thái Bình', 'Lào Cai', 'Kon Tum', 'Cao Bằng']\n",
        "\n",
        "# Load the data\n",
        "vietnam = pd.read_excel(\"./data/full_data_fixed.xlsx\")\n",
        "\n",
        "# Restrict to training and validation sets unless doing final test evaluation\n",
        "vietnam = vietnam.loc[vietnam['year_month'] < '2014-1-1']\n",
        "\n",
        "city = \"Bình Phước\"\n",
        "dfbase = vietnam.loc[vietnam['province'] == city]\n",
        "\n",
        "### Create data to fit\n",
        "df = dfbase[['Dengue_fever_rates', 'Total_Evaporation', 'Max_Absolute_Temperature']]\n",
        "df = impute_missing_value(df)\n",
        "\n",
        "# Create lagged predictors\n",
        "df['Total_Evaporation_lag1'] = df['Total_Evaporation'].shift(1)\n",
        "df['Total_Evaporation_lag2'] = df['Total_Evaporation'].shift(2)\n",
        "df['Total_Evaporation_lag3'] = df['Total_Evaporation'].shift(3)\n",
        "df['Max_Absolute_Temperature_lag1'] = df['Max_Absolute_Temperature'].shift(1)\n",
        "df['Max_Absolute_Temperature_lag2'] = df['Max_Absolute_Temperature'].shift(2)\n",
        "df['Max_Absolute_Temperature_lag3'] = df['Max_Absolute_Temperature'].shift(3)\n",
        "\n",
        "ddatefull = [pd.Timestamp(x) for x in list(dfbase.year_month)]\n",
        "df['Date'] = ddatefull\n",
        "df = df.set_index(\"Date\")\n",
        "df.dropna(inplace=True)\n",
        "\n",
        "# Define prediction varible (y) and exogenous regressors (X)\n",
        "y = df[['Dengue_fever_rates']]\n",
        "X = df[['Total_Evaporation_lag1', 'Total_Evaporation_lag2', \n",
        "        'Total_Evaporation_lag3','Max_Absolute_Temperature_lag1', \n",
        "        'Max_Absolute_Temperature_lag2', 'Max_Absolute_Temperature_lag3']]\n",
        "\n",
        "# number of sample\n",
        "numdata = len(y)\n",
        "\n",
        "# number of test\n",
        "# last 3 years 2014-2016\n",
        "numtest = 36\n",
        "\n",
        "# divide into train and validation set\n",
        "train_y, train_X = y[:(numdata - numtest)], X[:(numdata - numtest)]\n",
        "test_y, test_X  = y[(numdata - numtest):], X[(numdata - numtest):]\n",
        "\n",
        "# Create scale factor from exogenous training data\n",
        "sc_in = MinMaxScaler(feature_range=(0, 1)).fit(train_X)\n",
        "\n",
        "# Scale exogenous training and test data on training data scaler\n",
        "train_X = sc_in.transform(train_X)\n",
        "test_X = sc_in.transform(test_X)\n",
        "\n",
        "# Rename columns\n",
        "train_X = pd.DataFrame(train_X)\n",
        "train_X.rename(columns={0: 'Total_Evaporation_lag1', 1: 'Total_Evaporation_lag2', \n",
        "                        2: 'Total_Evaporation_lag3', 3: 'Max_Absolute_Temperature_lag1', \n",
        "                        4: 'Max_Absolute_Temperature_lag2', 5: 'Max_Absolute_Temperature_lag3'}, inplace = True)\n",
        "test_X = pd.DataFrame(test_X)\n",
        "test_X.rename(columns={0: 'Total_Evaporation_lag1', 1: 'Total_Evaporation_lag2', \n",
        "                        2: 'Total_Evaporation_lag3', 3: 'Max_Absolute_Temperature_lag1', \n",
        "                        4: 'Max_Absolute_Temperature_lag2', 5: 'Max_Absolute_Temperature_lag3'}, inplace = True)\n",
        "\n",
        "# Create scale factor from disease incidence training data\n",
        "sc_out = MinMaxScaler(feature_range=(0, 1)).fit(train_y)\n",
        "\n",
        "# Scale disease incidence training and test data on training data scaler\n",
        "train_y = sc_out.transform(train_y)\n",
        "test_y = sc_out.transform(test_y)\n",
        "\n",
        "# Rename columns\n",
        "train_y = pd.DataFrame(train_y)\n",
        "train_y.rename(columns={0:\"Dengue_fever_rates\"}, inplace = True)\n",
        "test_y = pd.DataFrame(test_y)\n",
        "test_y.rename(columns={0:\"Dengue_fever_rates\"}, inplace = True)\n",
        "\n",
        "# Indexing\n",
        "start_index = test_y.index.min()\n",
        "end_index = test_y.index.max()\n",
        "start_pos = numdata - numtest\n",
        "end_pos = numdata\n",
        "\n",
        "# train and prediction\n",
        "predictions = list()\n",
        "\n",
        "trainlist_y = [x for x in train_y.Dengue_fever_rates]\n",
        "testlist_y = [x for x in test_y.Dengue_fever_rates]\n",
        "trainlist_X = train_X.values.tolist()\n",
        "testlist_X = test_X.values.tolist()\n",
        "\n",
        "# prediction step\n",
        "nstep = 1\n",
        "\n",
        "# retrain the model\n",
        "retrain = True\n",
        "\n",
        "# set the model config\n",
        "order = (4, 0, 6)\n",
        "sorder = (6, 0, 3, 12)\n",
        "trend = 'n'\n",
        "\n",
        "# a first model to look at\n",
        "model = SARIMAX(trainlist_y, exog=train_X, order=order, seasonal_order=sorder, trend=trend,\n",
        "                    enforce_stationarity=False,\n",
        "                    enforce_invertibility=False)\n",
        "# fit model\n",
        "model_fit = model.fit(disp=False)\n",
        "\n",
        "# step over each time-step in the test set\n",
        "for i in range(len(testlist_y) - nstep + 1):\n",
        "    print(\"Iteration \", i)\n",
        "    if retrain:\n",
        "        # define model\n",
        "        model = SARIMAX(trainlist_y, exog=trainlist_X, order=order, seasonal_order=sorder, trend=trend,\n",
        "                        enforce_stationarity=False,\n",
        "                        enforce_invertibility=False)\n",
        "        # fit model\n",
        "        model_fit = model.fit(disp=False)\n",
        "    # forecast\n",
        "    yhat = model_fit.predict(len(trainlist_y), len(trainlist_y) + nstep - 1, exog=test_X[i:nstep + i])\n",
        "    # print the prediction\n",
        "    # take the prediction result\n",
        "    predictions.append(yhat[nstep - 1])\n",
        "    # add actual observation to history for the next loop\n",
        "    trainlist_y.append(testlist_y[i])\n",
        "    trainlist_X.append(testlist_X[i])\n",
        "\n",
        "# print final model\n",
        "print(\"Final model: \")\n",
        "print(model_fit.summary())\n",
        "\n",
        "# print out the prediction\n",
        "# print(\"TrainList : \", trainlist)\n",
        "# print(\"TestList : \", testlist)\n",
        "# print(\"Prediction: \", predictions)\n",
        "\n",
        "# prediction\n",
        "predorg = df[(numdata - numtest + nstep - 1):].copy()\n",
        "pred = df[(numdata - numtest + nstep - 1):].copy()\n",
        "pred['Dengue_fever_rates'] = predictions\n",
        "\n",
        "# unscale values\n",
        "pred['Dengue_fever_rates'] = sc_out.inverse_transform(pred[['Dengue_fever_rates']])\n",
        "\n",
        "# evaluate forecast\n",
        "results = evaluate_forecast(predorg['Dengue_fever_rates'], pred['Dengue_fever_rates'])\n",
        "print(results)\n",
        "print(f\"P-values: {model_fit.pvalues}\")"
      ],
      "execution_count": null,
      "outputs": [
        {
          "metadata": {
            "tags": null
          },
          "name": "stderr",
          "output_type": "stream",
          "text": [
            "/usr/local/lib/python3.7/dist-packages/statsmodels/base/model.py:512: ConvergenceWarning: Maximum Likelihood optimization failed to converge. Check mle_retvals\n",
            "  \"Check mle_retvals\", ConvergenceWarning)\n"
          ]
        },
        {
          "metadata": {
            "tags": null
          },
          "name": "stdout",
          "output_type": "stream",
          "text": [
            "Iteration  0\n"
          ]
        },
        {
          "metadata": {
            "tags": null
          },
          "name": "stderr",
          "output_type": "stream",
          "text": [
            "/usr/local/lib/python3.7/dist-packages/statsmodels/base/model.py:512: ConvergenceWarning: Maximum Likelihood optimization failed to converge. Check mle_retvals\n",
            "  \"Check mle_retvals\", ConvergenceWarning)\n"
          ]
        },
        {
          "metadata": {
            "tags": null
          },
          "name": "stdout",
          "output_type": "stream",
          "text": [
            "Iteration  1\n"
          ]
        },
        {
          "metadata": {
            "tags": null
          },
          "name": "stderr",
          "output_type": "stream",
          "text": [
            "/usr/local/lib/python3.7/dist-packages/statsmodels/base/model.py:512: ConvergenceWarning: Maximum Likelihood optimization failed to converge. Check mle_retvals\n",
            "  \"Check mle_retvals\", ConvergenceWarning)\n"
          ]
        },
        {
          "metadata": {
            "tags": null
          },
          "name": "stdout",
          "output_type": "stream",
          "text": [
            "Iteration  2\n"
          ]
        },
        {
          "metadata": {
            "tags": null
          },
          "name": "stderr",
          "output_type": "stream",
          "text": [
            "/usr/local/lib/python3.7/dist-packages/statsmodels/base/model.py:512: ConvergenceWarning: Maximum Likelihood optimization failed to converge. Check mle_retvals\n",
            "  \"Check mle_retvals\", ConvergenceWarning)\n"
          ]
        },
        {
          "metadata": {
            "tags": null
          },
          "name": "stdout",
          "output_type": "stream",
          "text": [
            "Iteration  3\n"
          ]
        },
        {
          "metadata": {
            "tags": null
          },
          "name": "stderr",
          "output_type": "stream",
          "text": [
            "/usr/local/lib/python3.7/dist-packages/statsmodels/base/model.py:512: ConvergenceWarning: Maximum Likelihood optimization failed to converge. Check mle_retvals\n",
            "  \"Check mle_retvals\", ConvergenceWarning)\n"
          ]
        },
        {
          "metadata": {
            "tags": null
          },
          "name": "stdout",
          "output_type": "stream",
          "text": [
            "Iteration  4\n"
          ]
        },
        {
          "metadata": {
            "tags": null
          },
          "name": "stderr",
          "output_type": "stream",
          "text": [
            "/usr/local/lib/python3.7/dist-packages/statsmodels/base/model.py:512: ConvergenceWarning: Maximum Likelihood optimization failed to converge. Check mle_retvals\n",
            "  \"Check mle_retvals\", ConvergenceWarning)\n"
          ]
        },
        {
          "metadata": {
            "tags": null
          },
          "name": "stdout",
          "output_type": "stream",
          "text": [
            "Iteration  5\n"
          ]
        },
        {
          "metadata": {
            "tags": null
          },
          "name": "stderr",
          "output_type": "stream",
          "text": [
            "/usr/local/lib/python3.7/dist-packages/statsmodels/base/model.py:512: ConvergenceWarning: Maximum Likelihood optimization failed to converge. Check mle_retvals\n",
            "  \"Check mle_retvals\", ConvergenceWarning)\n"
          ]
        },
        {
          "metadata": {
            "tags": null
          },
          "name": "stdout",
          "output_type": "stream",
          "text": [
            "Iteration  6\n"
          ]
        },
        {
          "metadata": {
            "tags": null
          },
          "name": "stderr",
          "output_type": "stream",
          "text": [
            "/usr/local/lib/python3.7/dist-packages/statsmodels/base/model.py:512: ConvergenceWarning: Maximum Likelihood optimization failed to converge. Check mle_retvals\n",
            "  \"Check mle_retvals\", ConvergenceWarning)\n"
          ]
        },
        {
          "metadata": {
            "tags": null
          },
          "name": "stdout",
          "output_type": "stream",
          "text": [
            "Iteration  7\n"
          ]
        },
        {
          "metadata": {
            "tags": null
          },
          "name": "stderr",
          "output_type": "stream",
          "text": [
            "/usr/local/lib/python3.7/dist-packages/statsmodels/base/model.py:512: ConvergenceWarning: Maximum Likelihood optimization failed to converge. Check mle_retvals\n",
            "  \"Check mle_retvals\", ConvergenceWarning)\n"
          ]
        },
        {
          "metadata": {
            "tags": null
          },
          "name": "stdout",
          "output_type": "stream",
          "text": [
            "Iteration  8\n"
          ]
        },
        {
          "metadata": {
            "tags": null
          },
          "name": "stderr",
          "output_type": "stream",
          "text": [
            "/usr/local/lib/python3.7/dist-packages/statsmodels/base/model.py:512: ConvergenceWarning: Maximum Likelihood optimization failed to converge. Check mle_retvals\n",
            "  \"Check mle_retvals\", ConvergenceWarning)\n"
          ]
        },
        {
          "metadata": {
            "tags": null
          },
          "name": "stdout",
          "output_type": "stream",
          "text": [
            "Iteration  9\n"
          ]
        },
        {
          "metadata": {
            "tags": null
          },
          "name": "stderr",
          "output_type": "stream",
          "text": [
            "/usr/local/lib/python3.7/dist-packages/statsmodels/base/model.py:512: ConvergenceWarning: Maximum Likelihood optimization failed to converge. Check mle_retvals\n",
            "  \"Check mle_retvals\", ConvergenceWarning)\n"
          ]
        },
        {
          "metadata": {
            "tags": null
          },
          "name": "stdout",
          "output_type": "stream",
          "text": [
            "Iteration  10\n"
          ]
        },
        {
          "metadata": {
            "tags": null
          },
          "name": "stderr",
          "output_type": "stream",
          "text": [
            "/usr/local/lib/python3.7/dist-packages/statsmodels/base/model.py:512: ConvergenceWarning: Maximum Likelihood optimization failed to converge. Check mle_retvals\n",
            "  \"Check mle_retvals\", ConvergenceWarning)\n"
          ]
        },
        {
          "metadata": {
            "tags": null
          },
          "name": "stdout",
          "output_type": "stream",
          "text": [
            "Iteration  11\n"
          ]
        },
        {
          "metadata": {
            "tags": null
          },
          "name": "stderr",
          "output_type": "stream",
          "text": [
            "/usr/local/lib/python3.7/dist-packages/statsmodels/base/model.py:512: ConvergenceWarning: Maximum Likelihood optimization failed to converge. Check mle_retvals\n",
            "  \"Check mle_retvals\", ConvergenceWarning)\n"
          ]
        },
        {
          "metadata": {
            "tags": null
          },
          "name": "stdout",
          "output_type": "stream",
          "text": [
            "Iteration  12\n"
          ]
        },
        {
          "metadata": {
            "tags": null
          },
          "name": "stderr",
          "output_type": "stream",
          "text": [
            "/usr/local/lib/python3.7/dist-packages/statsmodels/base/model.py:512: ConvergenceWarning: Maximum Likelihood optimization failed to converge. Check mle_retvals\n",
            "  \"Check mle_retvals\", ConvergenceWarning)\n"
          ]
        },
        {
          "metadata": {
            "tags": null
          },
          "name": "stdout",
          "output_type": "stream",
          "text": [
            "Iteration  13\n"
          ]
        },
        {
          "metadata": {
            "tags": null
          },
          "name": "stderr",
          "output_type": "stream",
          "text": [
            "/usr/local/lib/python3.7/dist-packages/statsmodels/base/model.py:512: ConvergenceWarning: Maximum Likelihood optimization failed to converge. Check mle_retvals\n",
            "  \"Check mle_retvals\", ConvergenceWarning)\n"
          ]
        },
        {
          "metadata": {
            "tags": null
          },
          "name": "stdout",
          "output_type": "stream",
          "text": [
            "Iteration  14\n"
          ]
        },
        {
          "output_type": "stream",
          "name": "stderr",
          "text": [
            "/usr/local/lib/python3.7/dist-packages/statsmodels/base/model.py:512: ConvergenceWarning: Maximum Likelihood optimization failed to converge. Check mle_retvals\n",
            "  \"Check mle_retvals\", ConvergenceWarning)\n"
          ]
        },
        {
          "output_type": "stream",
          "name": "stdout",
          "text": [
            "Iteration  15\n"
          ]
        },
        {
          "output_type": "stream",
          "name": "stderr",
          "text": [
            "/usr/local/lib/python3.7/dist-packages/statsmodels/base/model.py:512: ConvergenceWarning: Maximum Likelihood optimization failed to converge. Check mle_retvals\n",
            "  \"Check mle_retvals\", ConvergenceWarning)\n"
          ]
        },
        {
          "output_type": "stream",
          "name": "stdout",
          "text": [
            "Iteration  16\n"
          ]
        },
        {
          "output_type": "stream",
          "name": "stderr",
          "text": [
            "/usr/local/lib/python3.7/dist-packages/statsmodels/base/model.py:512: ConvergenceWarning: Maximum Likelihood optimization failed to converge. Check mle_retvals\n",
            "  \"Check mle_retvals\", ConvergenceWarning)\n"
          ]
        },
        {
          "output_type": "stream",
          "name": "stdout",
          "text": [
            "Iteration  17\n"
          ]
        },
        {
          "output_type": "stream",
          "name": "stderr",
          "text": [
            "/usr/local/lib/python3.7/dist-packages/statsmodels/base/model.py:512: ConvergenceWarning: Maximum Likelihood optimization failed to converge. Check mle_retvals\n",
            "  \"Check mle_retvals\", ConvergenceWarning)\n"
          ]
        },
        {
          "output_type": "stream",
          "name": "stdout",
          "text": [
            "Iteration  18\n"
          ]
        },
        {
          "output_type": "stream",
          "name": "stderr",
          "text": [
            "/usr/local/lib/python3.7/dist-packages/statsmodels/base/model.py:512: ConvergenceWarning: Maximum Likelihood optimization failed to converge. Check mle_retvals\n",
            "  \"Check mle_retvals\", ConvergenceWarning)\n"
          ]
        },
        {
          "output_type": "stream",
          "name": "stdout",
          "text": [
            "Iteration  19\n"
          ]
        },
        {
          "output_type": "stream",
          "name": "stderr",
          "text": [
            "/usr/local/lib/python3.7/dist-packages/statsmodels/base/model.py:512: ConvergenceWarning: Maximum Likelihood optimization failed to converge. Check mle_retvals\n",
            "  \"Check mle_retvals\", ConvergenceWarning)\n"
          ]
        },
        {
          "output_type": "stream",
          "name": "stdout",
          "text": [
            "Iteration  20\n"
          ]
        },
        {
          "output_type": "stream",
          "name": "stderr",
          "text": [
            "/usr/local/lib/python3.7/dist-packages/statsmodels/base/model.py:512: ConvergenceWarning: Maximum Likelihood optimization failed to converge. Check mle_retvals\n",
            "  \"Check mle_retvals\", ConvergenceWarning)\n"
          ]
        },
        {
          "output_type": "stream",
          "name": "stdout",
          "text": [
            "Iteration  21\n"
          ]
        },
        {
          "output_type": "stream",
          "name": "stderr",
          "text": [
            "/usr/local/lib/python3.7/dist-packages/statsmodels/base/model.py:512: ConvergenceWarning: Maximum Likelihood optimization failed to converge. Check mle_retvals\n",
            "  \"Check mle_retvals\", ConvergenceWarning)\n"
          ]
        },
        {
          "output_type": "stream",
          "name": "stdout",
          "text": [
            "Iteration  22\n"
          ]
        },
        {
          "output_type": "stream",
          "name": "stderr",
          "text": [
            "/usr/local/lib/python3.7/dist-packages/statsmodels/base/model.py:512: ConvergenceWarning: Maximum Likelihood optimization failed to converge. Check mle_retvals\n",
            "  \"Check mle_retvals\", ConvergenceWarning)\n"
          ]
        },
        {
          "output_type": "stream",
          "name": "stdout",
          "text": [
            "Iteration  23\n"
          ]
        },
        {
          "output_type": "stream",
          "name": "stderr",
          "text": [
            "/usr/local/lib/python3.7/dist-packages/statsmodels/base/model.py:512: ConvergenceWarning: Maximum Likelihood optimization failed to converge. Check mle_retvals\n",
            "  \"Check mle_retvals\", ConvergenceWarning)\n"
          ]
        },
        {
          "output_type": "stream",
          "name": "stdout",
          "text": [
            "Iteration  24\n"
          ]
        },
        {
          "output_type": "stream",
          "name": "stderr",
          "text": [
            "/usr/local/lib/python3.7/dist-packages/statsmodels/base/model.py:512: ConvergenceWarning: Maximum Likelihood optimization failed to converge. Check mle_retvals\n",
            "  \"Check mle_retvals\", ConvergenceWarning)\n"
          ]
        },
        {
          "output_type": "stream",
          "name": "stdout",
          "text": [
            "Iteration  25\n"
          ]
        },
        {
          "output_type": "stream",
          "name": "stderr",
          "text": [
            "/usr/local/lib/python3.7/dist-packages/statsmodels/base/model.py:512: ConvergenceWarning: Maximum Likelihood optimization failed to converge. Check mle_retvals\n",
            "  \"Check mle_retvals\", ConvergenceWarning)\n"
          ]
        },
        {
          "output_type": "stream",
          "name": "stdout",
          "text": [
            "Iteration  26\n"
          ]
        },
        {
          "output_type": "stream",
          "name": "stderr",
          "text": [
            "/usr/local/lib/python3.7/dist-packages/statsmodels/base/model.py:512: ConvergenceWarning: Maximum Likelihood optimization failed to converge. Check mle_retvals\n",
            "  \"Check mle_retvals\", ConvergenceWarning)\n"
          ]
        },
        {
          "output_type": "stream",
          "name": "stdout",
          "text": [
            "Iteration  27\n"
          ]
        },
        {
          "output_type": "stream",
          "name": "stderr",
          "text": [
            "/usr/local/lib/python3.7/dist-packages/statsmodels/base/model.py:512: ConvergenceWarning: Maximum Likelihood optimization failed to converge. Check mle_retvals\n",
            "  \"Check mle_retvals\", ConvergenceWarning)\n"
          ]
        },
        {
          "output_type": "stream",
          "name": "stdout",
          "text": [
            "Iteration  28\n"
          ]
        },
        {
          "output_type": "stream",
          "name": "stderr",
          "text": [
            "/usr/local/lib/python3.7/dist-packages/statsmodels/base/model.py:512: ConvergenceWarning: Maximum Likelihood optimization failed to converge. Check mle_retvals\n",
            "  \"Check mle_retvals\", ConvergenceWarning)\n"
          ]
        },
        {
          "output_type": "stream",
          "name": "stdout",
          "text": [
            "Iteration  29\n"
          ]
        },
        {
          "output_type": "stream",
          "name": "stderr",
          "text": [
            "/usr/local/lib/python3.7/dist-packages/statsmodels/base/model.py:512: ConvergenceWarning: Maximum Likelihood optimization failed to converge. Check mle_retvals\n",
            "  \"Check mle_retvals\", ConvergenceWarning)\n"
          ]
        },
        {
          "output_type": "stream",
          "name": "stdout",
          "text": [
            "Iteration  30\n"
          ]
        },
        {
          "output_type": "stream",
          "name": "stderr",
          "text": [
            "/usr/local/lib/python3.7/dist-packages/statsmodels/base/model.py:512: ConvergenceWarning: Maximum Likelihood optimization failed to converge. Check mle_retvals\n",
            "  \"Check mle_retvals\", ConvergenceWarning)\n"
          ]
        },
        {
          "output_type": "stream",
          "name": "stdout",
          "text": [
            "Iteration  31\n"
          ]
        },
        {
          "output_type": "stream",
          "name": "stderr",
          "text": [
            "/usr/local/lib/python3.7/dist-packages/statsmodels/base/model.py:512: ConvergenceWarning: Maximum Likelihood optimization failed to converge. Check mle_retvals\n",
            "  \"Check mle_retvals\", ConvergenceWarning)\n"
          ]
        },
        {
          "output_type": "stream",
          "name": "stdout",
          "text": [
            "Iteration  32\n"
          ]
        },
        {
          "output_type": "stream",
          "name": "stderr",
          "text": [
            "/usr/local/lib/python3.7/dist-packages/statsmodels/base/model.py:512: ConvergenceWarning: Maximum Likelihood optimization failed to converge. Check mle_retvals\n",
            "  \"Check mle_retvals\", ConvergenceWarning)\n"
          ]
        },
        {
          "output_type": "stream",
          "name": "stdout",
          "text": [
            "Iteration  33\n"
          ]
        },
        {
          "output_type": "stream",
          "name": "stderr",
          "text": [
            "/usr/local/lib/python3.7/dist-packages/statsmodels/base/model.py:512: ConvergenceWarning: Maximum Likelihood optimization failed to converge. Check mle_retvals\n",
            "  \"Check mle_retvals\", ConvergenceWarning)\n"
          ]
        },
        {
          "output_type": "stream",
          "name": "stdout",
          "text": [
            "Iteration  34\n"
          ]
        },
        {
          "output_type": "stream",
          "name": "stderr",
          "text": [
            "/usr/local/lib/python3.7/dist-packages/statsmodels/base/model.py:512: ConvergenceWarning: Maximum Likelihood optimization failed to converge. Check mle_retvals\n",
            "  \"Check mle_retvals\", ConvergenceWarning)\n"
          ]
        },
        {
          "output_type": "stream",
          "name": "stdout",
          "text": [
            "Iteration  35\n"
          ]
        },
        {
          "output_type": "stream",
          "name": "stderr",
          "text": [
            "/usr/local/lib/python3.7/dist-packages/statsmodels/base/model.py:512: ConvergenceWarning: Maximum Likelihood optimization failed to converge. Check mle_retvals\n",
            "  \"Check mle_retvals\", ConvergenceWarning)\n"
          ]
        },
        {
          "output_type": "stream",
          "name": "stdout",
          "text": [
            "Final model: \n",
            "                                 Statespace Model Results                                 \n",
            "==========================================================================================\n",
            "Dep. Variable:                                  y   No. Observations:                  236\n",
            "Model:             SARIMAX(4, 0, 6)x(6, 0, 3, 12)   Log Likelihood                 338.301\n",
            "Date:                            Wed, 15 Sep 2021   AIC                           -624.603\n",
            "Time:                                    19:14:08   BIC                           -544.648\n",
            "Sample:                                         0   HQIC                          -592.136\n",
            "                                            - 236                                         \n",
            "Covariance Type:                              opg                                         \n",
            "==============================================================================\n",
            "                 coef    std err          z      P>|z|      [0.025      0.975]\n",
            "------------------------------------------------------------------------------\n",
            "x1            -0.0849      0.029     -2.895      0.004      -0.142      -0.027\n",
            "x2            -0.0297      0.030     -1.005      0.315      -0.088       0.028\n",
            "x3             0.0091      0.032      0.287      0.774      -0.053       0.071\n",
            "x4            -0.0039      0.029     -0.132      0.895      -0.061       0.053\n",
            "x5            -0.0150      0.032     -0.473      0.636      -0.077       0.047\n",
            "x6             0.0640      0.029      2.206      0.027       0.007       0.121\n",
            "ar.L1          1.1658      1.219      0.956      0.339      -1.224       3.556\n",
            "ar.L2         -0.4679      1.260     -0.371      0.710      -2.938       2.002\n",
            "ar.L3         -0.0236      0.616     -0.038      0.969      -1.231       1.184\n",
            "ar.L4          0.1384      0.431      0.321      0.748      -0.707       0.984\n",
            "ma.L1          0.2491      1.218      0.205      0.838      -2.138       2.636\n",
            "ma.L2          0.2719      0.881      0.309      0.758      -1.455       1.999\n",
            "ma.L3          0.1040      0.814      0.128      0.898      -1.491       1.699\n",
            "ma.L4          0.0582      0.469      0.124      0.901      -0.862       0.978\n",
            "ma.L5          0.1810      0.255      0.710      0.478      -0.318       0.680\n",
            "ma.L6         -0.1594      0.333     -0.479      0.632      -0.812       0.493\n",
            "ar.S.L12       0.2460      0.335      0.734      0.463      -0.411       0.903\n",
            "ar.S.L24      -0.0638      0.197     -0.324      0.746      -0.450       0.322\n",
            "ar.S.L36       0.0954      0.126      0.758      0.449      -0.151       0.342\n",
            "ar.S.L48       0.2697      0.075      3.614      0.000       0.123       0.416\n",
            "ar.S.L60      -0.0265      0.084     -0.317      0.751      -0.190       0.137\n",
            "ar.S.L72       0.0063      0.047      0.133      0.894      -0.086       0.098\n",
            "ma.S.L12       0.0141      0.347      0.041      0.968      -0.665       0.693\n",
            "ma.S.L24      -0.1030      0.199     -0.517      0.605      -0.493       0.287\n",
            "ma.S.L36      -0.0125      0.176     -0.071      0.943      -0.358       0.333\n",
            "sigma2         0.0009   7.92e-05     10.757      0.000       0.001       0.001\n",
            "===================================================================================\n",
            "Ljung-Box (Q):                       31.04   Jarque-Bera (JB):                89.16\n",
            "Prob(Q):                              0.84   Prob(JB):                         0.00\n",
            "Heteroskedasticity (H):               3.02   Skew:                             0.79\n",
            "Prob(H) (two-sided):                  0.00   Kurtosis:                         6.30\n",
            "===================================================================================\n",
            "\n",
            "Warnings:\n",
            "[1] Covariance matrix calculated using the outer product of gradients (complex-step).\n",
            "   r2_score       mae        mse     mape      rmse\n",
            "0  0.856279  5.051952  43.708599  0.73937  6.611248\n",
            "[3.79064430e-03 3.14815107e-01 7.74379573e-01 8.94691498e-01\n",
            " 6.36190168e-01 2.73655202e-02 3.39016677e-01 7.10450490e-01\n",
            " 9.69398887e-01 7.48338484e-01 8.37948322e-01 7.57617405e-01\n",
            " 8.98299660e-01 9.01308121e-01 4.77593952e-01 6.32151950e-01\n",
            " 4.63207257e-01 7.45944204e-01 4.48550542e-01 3.01388492e-04\n",
            " 7.50960304e-01 8.94345624e-01 9.67567883e-01 6.05147646e-01\n",
            " 9.43292551e-01 5.47525167e-27]\n"
          ]
        }
      ]
    },
    {
      "cell_type": "code",
      "metadata": {
        "id": "3NlDJx7iW0kD"
      },
      "source": [
        "# Save observed and predicted values, as well as error metrics\n",
        "results_sarimax = pd.DataFrame({'Observed':predorg['Dengue_fever_rates'], \n",
        "                                'SARIMAX':pred['Dengue_fever_rates']})\n",
        "results_sarimax.reset_index(inplace=True)\n",
        "results_sarimax['RMSE'] = pd.Series(results.rmse)\n",
        "results_sarimax['MAE'] = pd.Series(results.mae)\n",
        "results_sarimax['MAPE'] = pd.Series(results.mape)\n",
        "\n",
        "results_sarimax.to_excel('df_binh_phuoc_SARIMAX_1mo.xlsx')"
      ],
      "execution_count": null,
      "outputs": []
    }
  ]
}